{
 "cells": [
  {
   "cell_type": "markdown",
   "metadata": {},
   "source": [
    "### Часть 2. Работа с данными.\n",
    "В первой части выполнена проверка распределений поступающих   каждую минуту данных температуры с датчиков в обжиговой машина, которая  представляет собой агрегат, состоящий из 5 одинаковых по размеру камер, в каждой камере установлено по 3 датчика температур. Установлено, что распределения близки к нормальным. Проверены распределения о высоте слоя сырья и его влажности. Высота слоя  имеет распределение близкое к равномерному, а влажность близкое к нормальному. Также изучено распределение качества - нормальное. \n",
    "Напомним, что высота слоя и влажность измеряются при входе сырья в машину. Сырье проходит через обжиговую машину за час.\n",
    "Учитывая эти факты, данные усреднены  в интервале X:00 - X:59, где X некоторый час, а также заменены на медианное значение  выбросы в данных находящиеся за пределами 3 сигма.\n",
    "\n",
    "* **T_data_1_1** - 1-й датчик в 1-й камере\n",
    "* **T_data_1_2** - 2-й датчик в 1-й камере\n",
    "* **T_data_1_3** -\t3-й датчик в 1-й камере\n",
    "* **T_data_2_1** -\t1-й датчик во 2-й камере\n",
    "* **T_data_2_2** -\t2-й датчик во 2-й камере\n",
    "* **T_data_2_3** -\t3-й датчик во 2-й камере\n",
    "* **T_data_3_1** -\t1-й датчик в 3-й камере\n",
    "* **T_data_3_2** -\t2-й датчик в 3-й камере\n",
    "* **T_data_3_3** -\t3-й датчик в 3-й камере\n",
    "* **T_data_4_1** -\t1-й датчик в 4-й камере\n",
    "* **T_data_4_2** -\t2-й датчик в 4-й камере\n",
    "* **T_data_4_3** -\t3-й датчик в 4-й камере\n",
    "* **T_data_5_1** -\t1-й датчик в 5-й камере\n",
    "* **T_data_5_2** -\t2-й датчик в 5-й камере\n",
    "* **T_data_5_3** -\t3-й датчик в 5-й камере\n",
    "* **H_data**     - Высота слоя \n",
    "* **AH_data**    -\tВлажность сырья\n",
    "\n",
    "Данные train после обработки  : train_final.csv"
   ]
  },
  {
   "cell_type": "code",
   "execution_count": 201,
   "metadata": {},
   "outputs": [],
   "source": [
    "import pandas as pd\n",
    "import matplotlib.pyplot as plt\n",
    "import numpy as np\n",
    "import datetime as dt\n",
    "from scipy.stats import norm\n",
    "import seaborn as sns\n",
    "from sklearn.svm import SVC \n",
    "from sklearn.preprocessing import StandardScaler\n",
    "from sklearn.linear_model import LinearRegression\n",
    "from sklearn.linear_model import LogisticRegression\n",
    "import warnings\n",
    "from sklearn.metrics import mean_absolute_error\n",
    "warnings.filterwarnings('ignore')\n",
    "\n",
    "%matplotlib inline"
   ]
  },
  {
   "cell_type": "code",
   "execution_count": 202,
   "metadata": {},
   "outputs": [],
   "source": [
    "pd.set_option(\"display.precision\", 3)\n",
    "#pd.set_option('max_colwidth', 100)\n",
    "pd.set_option('display.width', 500)\n",
    "pd.set_option(\"display.expand_frame_repr\", False)\n",
    "pd.set_option(\"display.max_rows\", 25)\n",
    "pd.set_option('display.float_format', lambda x: '%.2f' % x) "
   ]
  },
  {
   "cell_type": "markdown",
   "metadata": {},
   "source": [
    "### Подготовим массив train  = x_train + y_train"
   ]
  },
  {
   "cell_type": "code",
   "execution_count": 203,
   "metadata": {},
   "outputs": [],
   "source": [
    "train = pd.read_csv('train_final.csv', sep=';')\n",
    "train['D1'] = pd.to_datetime(train['D1'], dayfirst=True)\n",
    "train['D2'] = pd.to_datetime(train['D2'], dayfirst=True)\n",
    "train['DT'] = pd.to_datetime(train['DT'], dayfirst=True)"
   ]
  },
  {
   "cell_type": "code",
   "execution_count": 204,
   "metadata": {},
   "outputs": [
    {
     "data": {
      "text/html": [
       "<div>\n",
       "<style scoped>\n",
       "    .dataframe tbody tr th:only-of-type {\n",
       "        vertical-align: middle;\n",
       "    }\n",
       "\n",
       "    .dataframe tbody tr th {\n",
       "        vertical-align: top;\n",
       "    }\n",
       "\n",
       "    .dataframe thead th {\n",
       "        text-align: right;\n",
       "    }\n",
       "</style>\n",
       "<table border=\"1\" class=\"dataframe\">\n",
       "  <thead>\n",
       "    <tr style=\"text-align: right;\">\n",
       "      <th></th>\n",
       "      <th>T_data_1_1</th>\n",
       "      <th>T_data_1_2</th>\n",
       "      <th>T_data_1_3</th>\n",
       "      <th>T_data_2_1</th>\n",
       "      <th>T_data_2_2</th>\n",
       "      <th>T_data_2_3</th>\n",
       "      <th>T_data_3_1</th>\n",
       "      <th>T_data_3_2</th>\n",
       "      <th>T_data_3_3</th>\n",
       "      <th>T_data_4_1</th>\n",
       "      <th>T_data_4_2</th>\n",
       "      <th>T_data_4_3</th>\n",
       "      <th>T_data_5_1</th>\n",
       "      <th>T_data_5_2</th>\n",
       "      <th>T_data_5_3</th>\n",
       "      <th>H_data</th>\n",
       "      <th>AH_data</th>\n",
       "    </tr>\n",
       "  </thead>\n",
       "  <tbody>\n",
       "    <tr>\n",
       "      <td>0</td>\n",
       "      <td>271.22</td>\n",
       "      <td>306.95</td>\n",
       "      <td>266.87</td>\n",
       "      <td>328.80</td>\n",
       "      <td>329.12</td>\n",
       "      <td>345.08</td>\n",
       "      <td>501.33</td>\n",
       "      <td>499.20</td>\n",
       "      <td>583.78</td>\n",
       "      <td>320.12</td>\n",
       "      <td>360.68</td>\n",
       "      <td>336.33</td>\n",
       "      <td>232.38</td>\n",
       "      <td>236.60</td>\n",
       "      <td>242.05</td>\n",
       "      <td>155.85</td>\n",
       "      <td>4.73</td>\n",
       "    </tr>\n",
       "    <tr>\n",
       "      <td>1</td>\n",
       "      <td>277.58</td>\n",
       "      <td>300.37</td>\n",
       "      <td>273.55</td>\n",
       "      <td>320.48</td>\n",
       "      <td>331.97</td>\n",
       "      <td>355.45</td>\n",
       "      <td>501.90</td>\n",
       "      <td>501.65</td>\n",
       "      <td>535.85</td>\n",
       "      <td>330.23</td>\n",
       "      <td>387.13</td>\n",
       "      <td>336.32</td>\n",
       "      <td>231.85</td>\n",
       "      <td>237.68</td>\n",
       "      <td>236.52</td>\n",
       "      <td>156.45</td>\n",
       "      <td>7.90</td>\n",
       "    </tr>\n",
       "    <tr>\n",
       "      <td>2</td>\n",
       "      <td>273.60</td>\n",
       "      <td>231.83</td>\n",
       "      <td>266.80</td>\n",
       "      <td>322.70</td>\n",
       "      <td>334.22</td>\n",
       "      <td>347.13</td>\n",
       "      <td>501.13</td>\n",
       "      <td>500.37</td>\n",
       "      <td>563.52</td>\n",
       "      <td>341.55</td>\n",
       "      <td>398.68</td>\n",
       "      <td>334.35</td>\n",
       "      <td>237.02</td>\n",
       "      <td>245.68</td>\n",
       "      <td>231.97</td>\n",
       "      <td>156.00</td>\n",
       "      <td>6.96</td>\n",
       "    </tr>\n",
       "    <tr>\n",
       "      <td>3</td>\n",
       "      <td>250.33</td>\n",
       "      <td>227.03</td>\n",
       "      <td>256.35</td>\n",
       "      <td>326.58</td>\n",
       "      <td>333.67</td>\n",
       "      <td>317.72</td>\n",
       "      <td>511.18</td>\n",
       "      <td>498.12</td>\n",
       "      <td>492.37</td>\n",
       "      <td>345.35</td>\n",
       "      <td>395.07</td>\n",
       "      <td>332.23</td>\n",
       "      <td>248.85</td>\n",
       "      <td>254.15</td>\n",
       "      <td>244.78</td>\n",
       "      <td>156.05</td>\n",
       "      <td>7.29</td>\n",
       "    </tr>\n",
       "    <tr>\n",
       "      <td>4</td>\n",
       "      <td>240.40</td>\n",
       "      <td>239.35</td>\n",
       "      <td>249.25</td>\n",
       "      <td>325.75</td>\n",
       "      <td>325.40</td>\n",
       "      <td>310.50</td>\n",
       "      <td>522.68</td>\n",
       "      <td>498.97</td>\n",
       "      <td>538.72</td>\n",
       "      <td>341.28</td>\n",
       "      <td>379.88</td>\n",
       "      <td>337.82</td>\n",
       "      <td>260.00</td>\n",
       "      <td>260.52</td>\n",
       "      <td>248.55</td>\n",
       "      <td>188.48</td>\n",
       "      <td>7.11</td>\n",
       "    </tr>\n",
       "    <tr>\n",
       "      <td>...</td>\n",
       "      <td>...</td>\n",
       "      <td>...</td>\n",
       "      <td>...</td>\n",
       "      <td>...</td>\n",
       "      <td>...</td>\n",
       "      <td>...</td>\n",
       "      <td>...</td>\n",
       "      <td>...</td>\n",
       "      <td>...</td>\n",
       "      <td>...</td>\n",
       "      <td>...</td>\n",
       "      <td>...</td>\n",
       "      <td>...</td>\n",
       "      <td>...</td>\n",
       "      <td>...</td>\n",
       "      <td>...</td>\n",
       "      <td>...</td>\n",
       "    </tr>\n",
       "    <tr>\n",
       "      <td>17400</td>\n",
       "      <td>267.43</td>\n",
       "      <td>271.85</td>\n",
       "      <td>261.00</td>\n",
       "      <td>381.67</td>\n",
       "      <td>386.83</td>\n",
       "      <td>394.63</td>\n",
       "      <td>550.92</td>\n",
       "      <td>555.88</td>\n",
       "      <td>563.30</td>\n",
       "      <td>371.40</td>\n",
       "      <td>371.93</td>\n",
       "      <td>373.35</td>\n",
       "      <td>285.52</td>\n",
       "      <td>290.58</td>\n",
       "      <td>311.55</td>\n",
       "      <td>197.20</td>\n",
       "      <td>8.50</td>\n",
       "    </tr>\n",
       "    <tr>\n",
       "      <td>17401</td>\n",
       "      <td>265.57</td>\n",
       "      <td>271.27</td>\n",
       "      <td>263.48</td>\n",
       "      <td>382.20</td>\n",
       "      <td>388.82</td>\n",
       "      <td>404.65</td>\n",
       "      <td>564.93</td>\n",
       "      <td>573.42</td>\n",
       "      <td>573.80</td>\n",
       "      <td>349.60</td>\n",
       "      <td>356.65</td>\n",
       "      <td>303.98</td>\n",
       "      <td>281.25</td>\n",
       "      <td>284.33</td>\n",
       "      <td>284.60</td>\n",
       "      <td>196.59</td>\n",
       "      <td>5.98</td>\n",
       "    </tr>\n",
       "    <tr>\n",
       "      <td>17402</td>\n",
       "      <td>266.73</td>\n",
       "      <td>272.15</td>\n",
       "      <td>268.50</td>\n",
       "      <td>385.67</td>\n",
       "      <td>393.40</td>\n",
       "      <td>406.63</td>\n",
       "      <td>575.72</td>\n",
       "      <td>581.77</td>\n",
       "      <td>580.02</td>\n",
       "      <td>343.18</td>\n",
       "      <td>348.17</td>\n",
       "      <td>350.00</td>\n",
       "      <td>272.33</td>\n",
       "      <td>274.95</td>\n",
       "      <td>272.73</td>\n",
       "      <td>196.90</td>\n",
       "      <td>6.79</td>\n",
       "    </tr>\n",
       "    <tr>\n",
       "      <td>17403</td>\n",
       "      <td>268.83</td>\n",
       "      <td>276.73</td>\n",
       "      <td>261.97</td>\n",
       "      <td>382.78</td>\n",
       "      <td>384.85</td>\n",
       "      <td>387.75</td>\n",
       "      <td>579.52</td>\n",
       "      <td>580.85</td>\n",
       "      <td>583.78</td>\n",
       "      <td>361.30</td>\n",
       "      <td>343.08</td>\n",
       "      <td>350.00</td>\n",
       "      <td>259.95</td>\n",
       "      <td>256.53</td>\n",
       "      <td>262.37</td>\n",
       "      <td>196.49</td>\n",
       "      <td>7.14</td>\n",
       "    </tr>\n",
       "    <tr>\n",
       "      <td>17404</td>\n",
       "      <td>242.82</td>\n",
       "      <td>276.57</td>\n",
       "      <td>269.25</td>\n",
       "      <td>372.77</td>\n",
       "      <td>373.78</td>\n",
       "      <td>359.35</td>\n",
       "      <td>576.53</td>\n",
       "      <td>573.82</td>\n",
       "      <td>586.73</td>\n",
       "      <td>377.38</td>\n",
       "      <td>366.25</td>\n",
       "      <td>341.78</td>\n",
       "      <td>248.77</td>\n",
       "      <td>243.43</td>\n",
       "      <td>246.17</td>\n",
       "      <td>187.07</td>\n",
       "      <td>7.79</td>\n",
       "    </tr>\n",
       "  </tbody>\n",
       "</table>\n",
       "<p>17405 rows × 17 columns</p>\n",
       "</div>"
      ],
      "text/plain": [
       "       T_data_1_1  T_data_1_2  T_data_1_3  T_data_2_1  T_data_2_2  T_data_2_3  T_data_3_1  T_data_3_2  T_data_3_3  T_data_4_1  T_data_4_2  T_data_4_3  T_data_5_1  T_data_5_2  T_data_5_3  H_data  AH_data\n",
       "0          271.22      306.95      266.87      328.80      329.12      345.08      501.33      499.20      583.78      320.12      360.68      336.33      232.38      236.60      242.05  155.85     4.73\n",
       "1          277.58      300.37      273.55      320.48      331.97      355.45      501.90      501.65      535.85      330.23      387.13      336.32      231.85      237.68      236.52  156.45     7.90\n",
       "2          273.60      231.83      266.80      322.70      334.22      347.13      501.13      500.37      563.52      341.55      398.68      334.35      237.02      245.68      231.97  156.00     6.96\n",
       "3          250.33      227.03      256.35      326.58      333.67      317.72      511.18      498.12      492.37      345.35      395.07      332.23      248.85      254.15      244.78  156.05     7.29\n",
       "4          240.40      239.35      249.25      325.75      325.40      310.50      522.68      498.97      538.72      341.28      379.88      337.82      260.00      260.52      248.55  188.48     7.11\n",
       "...           ...         ...         ...         ...         ...         ...         ...         ...         ...         ...         ...         ...         ...         ...         ...     ...      ...\n",
       "17400      267.43      271.85      261.00      381.67      386.83      394.63      550.92      555.88      563.30      371.40      371.93      373.35      285.52      290.58      311.55  197.20     8.50\n",
       "17401      265.57      271.27      263.48      382.20      388.82      404.65      564.93      573.42      573.80      349.60      356.65      303.98      281.25      284.33      284.60  196.59     5.98\n",
       "17402      266.73      272.15      268.50      385.67      393.40      406.63      575.72      581.77      580.02      343.18      348.17      350.00      272.33      274.95      272.73  196.90     6.79\n",
       "17403      268.83      276.73      261.97      382.78      384.85      387.75      579.52      580.85      583.78      361.30      343.08      350.00      259.95      256.53      262.37  196.49     7.14\n",
       "17404      242.82      276.57      269.25      372.77      373.78      359.35      576.53      573.82      586.73      377.38      366.25      341.78      248.77      243.43      246.17  187.07     7.79\n",
       "\n",
       "[17405 rows x 17 columns]"
      ]
     },
     "execution_count": 204,
     "metadata": {},
     "output_type": "execute_result"
    }
   ],
   "source": [
    "keys = train.columns\n",
    "sampleX = train[keys[4:]]\n",
    "sampleX"
   ]
  },
  {
   "cell_type": "code",
   "execution_count": 205,
   "metadata": {},
   "outputs": [
    {
     "data": {
      "text/plain": [
       "0        392\n",
       "1        384\n",
       "2        393\n",
       "3        399\n",
       "4        400\n",
       "        ... \n",
       "17400    404\n",
       "17401    395\n",
       "17402    377\n",
       "17403    368\n",
       "17404    357\n",
       "Name: QV, Length: 17405, dtype: int64"
      ]
     },
     "execution_count": 205,
     "metadata": {},
     "output_type": "execute_result"
    }
   ],
   "source": [
    "sampleY = train[keys[3]]\n",
    "sampleY"
   ]
  },
  {
   "cell_type": "code",
   "execution_count": 206,
   "metadata": {},
   "outputs": [],
   "source": [
    "from sklearn.model_selection import train_test_split \n",
    "from sklearn.metrics import r2_score\n",
    "X_tr, X_val, y_tr, y_val = train_test_split(sampleX, sampleY, test_size=0.20, random_state=42)"
   ]
  },
  {
   "cell_type": "code",
   "execution_count": 207,
   "metadata": {},
   "outputs": [
    {
     "data": {
      "text/plain": [
       "10.922078629340268"
      ]
     },
     "execution_count": 207,
     "metadata": {},
     "output_type": "execute_result"
    }
   ],
   "source": [
    "lr = LinearRegression()\n",
    "lr.fit(X_tr, y_tr)\n",
    "y_pred_lr = lr.predict(X_val)\n",
    "mean_absolute_error(y_pred_lr, y_val)\n",
    "#print(lr.coef_)"
   ]
  },
  {
   "cell_type": "code",
   "execution_count": 208,
   "metadata": {},
   "outputs": [
    {
     "data": {
      "text/plain": [
       "0.8850447641108674"
      ]
     },
     "execution_count": 208,
     "metadata": {},
     "output_type": "execute_result"
    }
   ],
   "source": [
    "re =r2_score(y_pred_lr, y_val)\n",
    "re"
   ]
  },
  {
   "cell_type": "code",
   "execution_count": 209,
   "metadata": {},
   "outputs": [
    {
     "data": {
      "text/plain": [
       "{'copy_X': True, 'fit_intercept': True, 'n_jobs': None, 'normalize': False}"
      ]
     },
     "execution_count": 209,
     "metadata": {},
     "output_type": "execute_result"
    }
   ],
   "source": [
    "lr.get_params()"
   ]
  },
  {
   "cell_type": "code",
   "execution_count": 210,
   "metadata": {},
   "outputs": [
    {
     "data": {
      "text/plain": [
       "11.03187479311327"
      ]
     },
     "execution_count": 210,
     "metadata": {},
     "output_type": "execute_result"
    }
   ],
   "source": [
    "y_pred_lr = lr.predict(sampleX)\n",
    "mean_absolute_error(y_pred_lr, sampleY)"
   ]
  },
  {
   "cell_type": "code",
   "execution_count": 211,
   "metadata": {},
   "outputs": [
    {
     "data": {
      "text/plain": [
       "0.8842876386383852"
      ]
     },
     "execution_count": 211,
     "metadata": {},
     "output_type": "execute_result"
    }
   ],
   "source": [
    "re =r2_score(y_pred_lr, sampleY)\n",
    "re"
   ]
  },
  {
   "cell_type": "markdown",
   "metadata": {},
   "source": [
    "### Оценка значимости уравнения линейной регрессии\n",
    "\n",
    "Оценить статистическую значимость уравнения линейной регрессии в целом можно с помощью __F-критерия Фишера__. Проверяется нулевая гипотеза о том, что все коэффициенты при факторах у регрессионной модели равны нулю (т.е. модель представляет из себя горизонтальную плоскость.)\n",
    "\n",
    "Используемая здесь статистика:\n",
    "$$F = \\dfrac{R^2 / k}{(1 - R^2) / (n - k - 1)},$$\n",
    "где $R^2$ — коэффициент детерминации, $n$ — число наблюдений, $k$ — число факторов. В литературе часто используются обозначения $k_1 = k$, $k_2 = n - k - 1$ (иногда вместо $k_1$, $k_2$ пишут также $f_1$, $f_2$)."
   ]
  },
  {
   "cell_type": "code",
   "execution_count": 212,
   "metadata": {},
   "outputs": [
    {
     "data": {
      "text/plain": [
       "(21, 17383)"
      ]
     },
     "execution_count": 212,
     "metadata": {},
     "output_type": "execute_result"
    }
   ],
   "source": [
    "f1 = len(keys)\n",
    "f2 = len(sampleX)-f1-1\n",
    "f1,f2"
   ]
  },
  {
   "cell_type": "code",
   "execution_count": 213,
   "metadata": {},
   "outputs": [
    {
     "data": {
      "text/plain": [
       "7.642119028881297"
      ]
     },
     "execution_count": 213,
     "metadata": {},
     "output_type": "execute_result"
    }
   ],
   "source": [
    "F = re/f2/((1-re)/f2)\n",
    "F"
   ]
  },
  {
   "cell_type": "code",
   "execution_count": 214,
   "metadata": {},
   "outputs": [
    {
     "data": {
      "text/plain": [
       "1.5563533408502936"
      ]
     },
     "execution_count": 214,
     "metadata": {},
     "output_type": "execute_result"
    }
   ],
   "source": [
    "alpha = 0.05\n",
    "from scipy import stats\n",
    "F_crit = stats.f.ppf(1 - alpha, f1, f2)\n",
    "F_crit"
   ]
  },
  {
   "cell_type": "markdown",
   "metadata": {},
   "source": [
    "Имеем $F > F_{crit}$, поэтому уравнение регрессии статистически значимо.\n"
   ]
  },
  {
   "cell_type": "code",
   "execution_count": 215,
   "metadata": {},
   "outputs": [],
   "source": [
    "coef = lr.coef_"
   ]
  },
  {
   "cell_type": "code",
   "execution_count": 216,
   "metadata": {},
   "outputs": [
    {
     "data": {
      "text/plain": [
       "474.79156629544997"
      ]
     },
     "execution_count": 216,
     "metadata": {},
     "output_type": "execute_result"
    }
   ],
   "source": [
    "lr.intercept_"
   ]
  },
  {
   "cell_type": "code",
   "execution_count": 217,
   "metadata": {},
   "outputs": [
    {
     "data": {
      "text/plain": [
       "14.800400709303013"
      ]
     },
     "execution_count": 217,
     "metadata": {},
     "output_type": "execute_result"
    }
   ],
   "source": [
    "Sost = np.sqrt(np.sum((y_pred_lr - sampleY)**2)/(len(y_pred_lr)-2))\n",
    "Sost"
   ]
  },
  {
   "cell_type": "code",
   "execution_count": 218,
   "metadata": {},
   "outputs": [
    {
     "data": {
      "text/plain": [
       "1.9601003077845138"
      ]
     },
     "execution_count": 218,
     "metadata": {},
     "output_type": "execute_result"
    }
   ],
   "source": [
    "t = stats.t.ppf(0.975, len(y_pred_lr)-2) #статистика T\n",
    "t"
   ]
  },
  {
   "cell_type": "markdown",
   "metadata": {},
   "source": [
    "Посмотрим на коэффициенты уравнения множественной регрессии"
   ]
  },
  {
   "cell_type": "code",
   "execution_count": 227,
   "metadata": {},
   "outputs": [
    {
     "data": {
      "text/html": [
       "<div>\n",
       "<style scoped>\n",
       "    .dataframe tbody tr th:only-of-type {\n",
       "        vertical-align: middle;\n",
       "    }\n",
       "\n",
       "    .dataframe tbody tr th {\n",
       "        vertical-align: top;\n",
       "    }\n",
       "\n",
       "    .dataframe thead th {\n",
       "        text-align: right;\n",
       "    }\n",
       "</style>\n",
       "<table border=\"1\" class=\"dataframe\">\n",
       "  <thead>\n",
       "    <tr style=\"text-align: right;\">\n",
       "      <th></th>\n",
       "      <th>name</th>\n",
       "      <th>val</th>\n",
       "    </tr>\n",
       "  </thead>\n",
       "  <tbody>\n",
       "    <tr>\n",
       "      <td>0</td>\n",
       "      <td>intercept</td>\n",
       "      <td>474.791566</td>\n",
       "    </tr>\n",
       "    <tr>\n",
       "      <td>1</td>\n",
       "      <td>T_data_1_1</td>\n",
       "      <td>0.121709</td>\n",
       "    </tr>\n",
       "    <tr>\n",
       "      <td>2</td>\n",
       "      <td>T_data_1_2</td>\n",
       "      <td>0.114931</td>\n",
       "    </tr>\n",
       "    <tr>\n",
       "      <td>3</td>\n",
       "      <td>T_data_1_3</td>\n",
       "      <td>0.111969</td>\n",
       "    </tr>\n",
       "    <tr>\n",
       "      <td>4</td>\n",
       "      <td>T_data_2_1</td>\n",
       "      <td>0.066422</td>\n",
       "    </tr>\n",
       "    <tr>\n",
       "      <td>5</td>\n",
       "      <td>T_data_2_2</td>\n",
       "      <td>0.043237</td>\n",
       "    </tr>\n",
       "    <tr>\n",
       "      <td>6</td>\n",
       "      <td>T_data_2_3</td>\n",
       "      <td>0.075004</td>\n",
       "    </tr>\n",
       "    <tr>\n",
       "      <td>7</td>\n",
       "      <td>T_data_3_1</td>\n",
       "      <td>-0.312578</td>\n",
       "    </tr>\n",
       "    <tr>\n",
       "      <td>8</td>\n",
       "      <td>T_data_3_2</td>\n",
       "      <td>-0.277236</td>\n",
       "    </tr>\n",
       "    <tr>\n",
       "      <td>9</td>\n",
       "      <td>T_data_3_3</td>\n",
       "      <td>-0.273728</td>\n",
       "    </tr>\n",
       "    <tr>\n",
       "      <td>10</td>\n",
       "      <td>T_data_4_1</td>\n",
       "      <td>-0.000189</td>\n",
       "    </tr>\n",
       "    <tr>\n",
       "      <td>11</td>\n",
       "      <td>T_data_4_2</td>\n",
       "      <td>-0.005773</td>\n",
       "    </tr>\n",
       "    <tr>\n",
       "      <td>12</td>\n",
       "      <td>T_data_4_3</td>\n",
       "      <td>-0.007621</td>\n",
       "    </tr>\n",
       "    <tr>\n",
       "      <td>13</td>\n",
       "      <td>T_data_5_1</td>\n",
       "      <td>0.140714</td>\n",
       "    </tr>\n",
       "    <tr>\n",
       "      <td>14</td>\n",
       "      <td>T_data_5_2</td>\n",
       "      <td>0.137674</td>\n",
       "    </tr>\n",
       "    <tr>\n",
       "      <td>15</td>\n",
       "      <td>T_data_5_3</td>\n",
       "      <td>0.159809</td>\n",
       "    </tr>\n",
       "    <tr>\n",
       "      <td>16</td>\n",
       "      <td>H_data</td>\n",
       "      <td>0.653879</td>\n",
       "    </tr>\n",
       "    <tr>\n",
       "      <td>17</td>\n",
       "      <td>AH_data</td>\n",
       "      <td>-1.353124</td>\n",
       "    </tr>\n",
       "  </tbody>\n",
       "</table>\n",
       "</div>"
      ],
      "text/plain": [
       "          name        val\n",
       "0    intercept 474.791566\n",
       "1   T_data_1_1   0.121709\n",
       "2   T_data_1_2   0.114931\n",
       "3   T_data_1_3   0.111969\n",
       "4   T_data_2_1   0.066422\n",
       "5   T_data_2_2   0.043237\n",
       "6   T_data_2_3   0.075004\n",
       "7   T_data_3_1  -0.312578\n",
       "8   T_data_3_2  -0.277236\n",
       "9   T_data_3_3  -0.273728\n",
       "10  T_data_4_1  -0.000189\n",
       "11  T_data_4_2  -0.005773\n",
       "12  T_data_4_3  -0.007621\n",
       "13  T_data_5_1   0.140714\n",
       "14  T_data_5_2   0.137674\n",
       "15  T_data_5_3   0.159809\n",
       "16      H_data   0.653879\n",
       "17     AH_data  -1.353124"
      ]
     },
     "execution_count": 227,
     "metadata": {},
     "output_type": "execute_result"
    }
   ],
   "source": [
    "pd.set_option('display.float_format', lambda x: '%.6f' % x) \n",
    "x_keys = sampleX.keys()\n",
    "xk = pd.DataFrame(x_keys, columns = ['name'])\n",
    "b = pd.DataFrame(lr.coef_, columns = ['val'])\n",
    "b.insert(0, \"name\", xk['name'], False)\n",
    "b.loc[b.index.min() - 1] = ['intercept', lr.intercept_]\n",
    "b = b.sort_index()\n",
    "b = b.reset_index(drop=True)\n",
    "b"
   ]
  },
  {
   "cell_type": "markdown",
   "metadata": {},
   "source": [
    "Построим матрицу X"
   ]
  },
  {
   "cell_type": "code",
   "execution_count": 228,
   "metadata": {},
   "outputs": [
    {
     "data": {
      "text/plain": [
       "array([[  1.        , 271.21666667, 306.95      , ..., 242.05      ,\n",
       "        155.85416667,   4.73      ],\n",
       "       [  1.        , 277.58333333, 300.36666667, ..., 236.51666667,\n",
       "        156.4465    ,   7.9       ],\n",
       "       [  1.        , 273.6       , 231.83333333, ..., 231.96666667,\n",
       "        156.00016667,   6.96      ],\n",
       "       ...,\n",
       "       [  1.        , 266.73333333, 272.15      , ..., 272.73333333,\n",
       "        196.89716667,   6.79      ],\n",
       "       [  1.        , 268.83333333, 276.73333333, ..., 262.36666667,\n",
       "        196.49366667,   7.14      ],\n",
       "       [  1.        , 242.81666667, 276.56666667, ..., 246.16666667,\n",
       "        187.06666667,   7.79      ]])"
      ]
     },
     "execution_count": 228,
     "metadata": {},
     "output_type": "execute_result"
    }
   ],
   "source": [
    "A = np.array(sampleX)\n",
    "A = np.vstack((np.ones(A.shape[0]), A.T)).T\n",
    "A.shape\n",
    "A"
   ]
  },
  {
   "cell_type": "code",
   "execution_count": 229,
   "metadata": {},
   "outputs": [
    {
     "data": {
      "text/plain": [
       "(18, 18)"
      ]
     },
     "execution_count": 229,
     "metadata": {},
     "output_type": "execute_result"
    }
   ],
   "source": [
    "aa = np.dot(A.T, A)\n",
    "aa.shape"
   ]
  },
  {
   "cell_type": "markdown",
   "metadata": {},
   "source": [
    "Найдем доверительный интервал  доверительный интервал для коэффициентов  регресии. \n",
    "__Используем формулу__ :\n",
    "$$Se{(b_j)} = MEAN\\sqrt{A_{jj}}.$$"
   ]
  },
  {
   "cell_type": "code",
   "execution_count": 230,
   "metadata": {},
   "outputs": [],
   "source": [
    "с = np.linalg.inv(aa)\n",
    "c = np.sqrt(с)"
   ]
  },
  {
   "cell_type": "code",
   "execution_count": 231,
   "metadata": {},
   "outputs": [
    {
     "data": {
      "text/html": [
       "<div>\n",
       "<style scoped>\n",
       "    .dataframe tbody tr th:only-of-type {\n",
       "        vertical-align: middle;\n",
       "    }\n",
       "\n",
       "    .dataframe tbody tr th {\n",
       "        vertical-align: top;\n",
       "    }\n",
       "\n",
       "    .dataframe thead th {\n",
       "        text-align: right;\n",
       "    }\n",
       "</style>\n",
       "<table border=\"1\" class=\"dataframe\">\n",
       "  <thead>\n",
       "    <tr style=\"text-align: right;\">\n",
       "      <th></th>\n",
       "      <th>name</th>\n",
       "      <th>val</th>\n",
       "      <th>s</th>\n",
       "      <th>xdi_1</th>\n",
       "      <th>xdi_2</th>\n",
       "    </tr>\n",
       "  </thead>\n",
       "  <tbody>\n",
       "    <tr>\n",
       "      <td>0</td>\n",
       "      <td>intercept</td>\n",
       "      <td>474.791566</td>\n",
       "      <td>3.368507</td>\n",
       "      <td>474.345456</td>\n",
       "      <td>475.237677</td>\n",
       "    </tr>\n",
       "    <tr>\n",
       "      <td>1</td>\n",
       "      <td>T_data_1_1</td>\n",
       "      <td>0.121709</td>\n",
       "      <td>0.008541</td>\n",
       "      <td>0.120578</td>\n",
       "      <td>0.122841</td>\n",
       "    </tr>\n",
       "    <tr>\n",
       "      <td>2</td>\n",
       "      <td>T_data_1_2</td>\n",
       "      <td>0.114931</td>\n",
       "      <td>0.008644</td>\n",
       "      <td>0.113786</td>\n",
       "      <td>0.116075</td>\n",
       "    </tr>\n",
       "    <tr>\n",
       "      <td>3</td>\n",
       "      <td>T_data_1_3</td>\n",
       "      <td>0.111969</td>\n",
       "      <td>0.008580</td>\n",
       "      <td>0.110832</td>\n",
       "      <td>0.113105</td>\n",
       "    </tr>\n",
       "    <tr>\n",
       "      <td>4</td>\n",
       "      <td>T_data_2_1</td>\n",
       "      <td>0.066422</td>\n",
       "      <td>0.005898</td>\n",
       "      <td>0.065641</td>\n",
       "      <td>0.067203</td>\n",
       "    </tr>\n",
       "    <tr>\n",
       "      <td>5</td>\n",
       "      <td>T_data_2_2</td>\n",
       "      <td>0.043237</td>\n",
       "      <td>0.005983</td>\n",
       "      <td>0.042444</td>\n",
       "      <td>0.044029</td>\n",
       "    </tr>\n",
       "    <tr>\n",
       "      <td>6</td>\n",
       "      <td>T_data_2_3</td>\n",
       "      <td>0.075004</td>\n",
       "      <td>0.006174</td>\n",
       "      <td>0.074186</td>\n",
       "      <td>0.075822</td>\n",
       "    </tr>\n",
       "    <tr>\n",
       "      <td>7</td>\n",
       "      <td>T_data_3_1</td>\n",
       "      <td>-0.312578</td>\n",
       "      <td>0.004278</td>\n",
       "      <td>-0.313144</td>\n",
       "      <td>-0.312011</td>\n",
       "    </tr>\n",
       "    <tr>\n",
       "      <td>8</td>\n",
       "      <td>T_data_3_2</td>\n",
       "      <td>-0.277236</td>\n",
       "      <td>0.004173</td>\n",
       "      <td>-0.277788</td>\n",
       "      <td>-0.276683</td>\n",
       "    </tr>\n",
       "    <tr>\n",
       "      <td>9</td>\n",
       "      <td>T_data_3_3</td>\n",
       "      <td>-0.273728</td>\n",
       "      <td>0.004162</td>\n",
       "      <td>-0.274279</td>\n",
       "      <td>-0.273177</td>\n",
       "    </tr>\n",
       "    <tr>\n",
       "      <td>10</td>\n",
       "      <td>T_data_4_1</td>\n",
       "      <td>-0.000189</td>\n",
       "      <td>0.006061</td>\n",
       "      <td>-0.000992</td>\n",
       "      <td>0.000614</td>\n",
       "    </tr>\n",
       "    <tr>\n",
       "      <td>11</td>\n",
       "      <td>T_data_4_2</td>\n",
       "      <td>-0.005773</td>\n",
       "      <td>0.006212</td>\n",
       "      <td>-0.006596</td>\n",
       "      <td>-0.004950</td>\n",
       "    </tr>\n",
       "    <tr>\n",
       "      <td>12</td>\n",
       "      <td>T_data_4_3</td>\n",
       "      <td>-0.007621</td>\n",
       "      <td>0.006138</td>\n",
       "      <td>-0.008434</td>\n",
       "      <td>-0.006808</td>\n",
       "    </tr>\n",
       "    <tr>\n",
       "      <td>13</td>\n",
       "      <td>T_data_5_1</td>\n",
       "      <td>0.140714</td>\n",
       "      <td>0.008692</td>\n",
       "      <td>0.139563</td>\n",
       "      <td>0.141865</td>\n",
       "    </tr>\n",
       "    <tr>\n",
       "      <td>14</td>\n",
       "      <td>T_data_5_2</td>\n",
       "      <td>0.137674</td>\n",
       "      <td>0.008835</td>\n",
       "      <td>0.136504</td>\n",
       "      <td>0.138844</td>\n",
       "    </tr>\n",
       "    <tr>\n",
       "      <td>15</td>\n",
       "      <td>T_data_5_3</td>\n",
       "      <td>0.159809</td>\n",
       "      <td>0.008920</td>\n",
       "      <td>0.158628</td>\n",
       "      <td>0.160991</td>\n",
       "    </tr>\n",
       "    <tr>\n",
       "      <td>16</td>\n",
       "      <td>H_data</td>\n",
       "      <td>0.653879</td>\n",
       "      <td>0.008147</td>\n",
       "      <td>0.652800</td>\n",
       "      <td>0.654958</td>\n",
       "    </tr>\n",
       "    <tr>\n",
       "      <td>17</td>\n",
       "      <td>AH_data</td>\n",
       "      <td>-1.353124</td>\n",
       "      <td>0.098648</td>\n",
       "      <td>-1.366189</td>\n",
       "      <td>-1.340059</td>\n",
       "    </tr>\n",
       "  </tbody>\n",
       "</table>\n",
       "</div>"
      ],
      "text/plain": [
       "          name        val        s      xdi_1      xdi_2\n",
       "0    intercept 474.791566 3.368507 474.345456 475.237677\n",
       "1   T_data_1_1   0.121709 0.008541   0.120578   0.122841\n",
       "2   T_data_1_2   0.114931 0.008644   0.113786   0.116075\n",
       "3   T_data_1_3   0.111969 0.008580   0.110832   0.113105\n",
       "4   T_data_2_1   0.066422 0.005898   0.065641   0.067203\n",
       "5   T_data_2_2   0.043237 0.005983   0.042444   0.044029\n",
       "6   T_data_2_3   0.075004 0.006174   0.074186   0.075822\n",
       "7   T_data_3_1  -0.312578 0.004278  -0.313144  -0.312011\n",
       "8   T_data_3_2  -0.277236 0.004173  -0.277788  -0.276683\n",
       "9   T_data_3_3  -0.273728 0.004162  -0.274279  -0.273177\n",
       "10  T_data_4_1  -0.000189 0.006061  -0.000992   0.000614\n",
       "11  T_data_4_2  -0.005773 0.006212  -0.006596  -0.004950\n",
       "12  T_data_4_3  -0.007621 0.006138  -0.008434  -0.006808\n",
       "13  T_data_5_1   0.140714 0.008692   0.139563   0.141865\n",
       "14  T_data_5_2   0.137674 0.008835   0.136504   0.138844\n",
       "15  T_data_5_3   0.159809 0.008920   0.158628   0.160991\n",
       "16      H_data   0.653879 0.008147   0.652800   0.654958\n",
       "17     AH_data  -1.353124 0.098648  -1.366189  -1.340059"
      ]
     },
     "execution_count": 231,
     "metadata": {},
     "output_type": "execute_result"
    }
   ],
   "source": [
    "x_keys = b['name']\n",
    "#print(x_keys)\n",
    "j = 0\n",
    "for key in x_keys:\n",
    "    b.loc[b['name'] == key, 's']= Sost*c[j,j]\n",
    "    b.loc[b['name'] == key, 'xdi_1']= b.loc[b['name'] == key, 'val' ] - c[j,j]*t\n",
    "    b.loc[b['name'] == key, 'xdi_2']= b.loc[b['name'] == key, 'val' ] + c[j,j]*t\n",
    "    j +=1\n",
    "b\n",
    "# xdi_1 и xdi_2 соотвественно левая и правая границы доверительного интервала"
   ]
  },
  {
   "cell_type": "code",
   "execution_count": 232,
   "metadata": {},
   "outputs": [],
   "source": [
    "lr.coef_= b['xdi_1'][1:]"
   ]
  },
  {
   "cell_type": "code",
   "execution_count": 233,
   "metadata": {},
   "outputs": [],
   "source": [
    "ypred2=lr.predict(sampleX)"
   ]
  },
  {
   "cell_type": "code",
   "execution_count": 234,
   "metadata": {},
   "outputs": [],
   "source": [
    "lr.coef_= b['xdi_2'][1:]"
   ]
  },
  {
   "cell_type": "code",
   "execution_count": 235,
   "metadata": {},
   "outputs": [],
   "source": [
    "ypred3=lr.predict(sampleX)"
   ]
  },
  {
   "cell_type": "code",
   "execution_count": 236,
   "metadata": {},
   "outputs": [
    {
     "data": {
      "image/png": "[encoded data removed]",
      "text/plain": [
       "<Figure size 1152x576 with 1 Axes>"
      ]
     },
     "metadata": {
      "needs_background": "light"
     },
     "output_type": "display_data"
    }
   ],
   "source": [
    "plt.figure(figsize = (16, 8))\n",
    "labels = ['Sample', 'Predict']\n",
    "l1 = sns.kdeplot(sampleY, shade=True, legend=1, label = 'Sample')\n",
    "l2 = sns.kdeplot(y_pred_lr, shade=True, legend=1,  label = 'Predict')\n",
    "l3 = sns.kdeplot(ypred2, shade=True, legend=1,  label = 'Predict in -')\n",
    "l3 = sns.kdeplot(ypred3, shade=True, legend=1,  label = 'Predict in +')\n",
    "plt.xlabel('Qv')\n",
    "plt.suptitle('Распределение значений качества и предсказания качества по обучающей выборке')\n",
    "plt.show()"
   ]
  },
  {
   "cell_type": "code",
   "execution_count": 237,
   "metadata": {},
   "outputs": [
    {
     "data": {
      "text/plain": [
       "402.38873886814133"
      ]
     },
     "execution_count": 237,
     "metadata": {},
     "output_type": "execute_result"
    }
   ],
   "source": [
    "sampleY.mean()"
   ]
  },
  {
   "cell_type": "code",
   "execution_count": 238,
   "metadata": {},
   "outputs": [
    {
     "data": {
      "text/plain": [
       "402.3858631986207"
      ]
     },
     "execution_count": 238,
     "metadata": {},
     "output_type": "execute_result"
    }
   ],
   "source": [
    "y_pred_lr.mean()"
   ]
  },
  {
   "cell_type": "code",
   "execution_count": 239,
   "metadata": {},
   "outputs": [
    {
     "data": {
      "text/plain": [
       "45.926863827260426"
      ]
     },
     "execution_count": 239,
     "metadata": {},
     "output_type": "execute_result"
    }
   ],
   "source": [
    "sampleY.std()"
   ]
  },
  {
   "cell_type": "code",
   "execution_count": 240,
   "metadata": {},
   "outputs": [
    {
     "data": {
      "text/plain": [
       "43.50695031376498"
      ]
     },
     "execution_count": 240,
     "metadata": {},
     "output_type": "execute_result"
    }
   ],
   "source": [
    "y_pred_lr.std()"
   ]
  },
  {
   "cell_type": "markdown",
   "metadata": {},
   "source": [
    "Вывод: полученные коэффициенты уравнения линейной регрессии хорошо апроксимирую  данные, несмотря на значительное сокращение первоначальных данных."
   ]
  }
 ],
 "metadata": {
  "kernelspec": {
   "display_name": "Python 3",
   "language": "python",
   "name": "python3"
  },
  "language_info": {
   "codemirror_mode": {
    "name": "ipython",
    "version": 3
   },
   "file_extension": ".py",
   "mimetype": "text/x-python",
   "name": "python",
   "nbconvert_exporter": "python",
   "pygments_lexer": "ipython3",
   "version": "3.7.4"
  }
 },
 "nbformat": 4,
 "nbformat_minor": 4
}
