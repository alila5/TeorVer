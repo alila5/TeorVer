{
 "cells": [
  {
   "cell_type": "code",
   "execution_count": 1,
   "metadata": {},
   "outputs": [],
   "source": [
    "from math import factorial\n",
    "from math import exp, pi, sqrt\n",
    "import numpy as np\n",
    "import matplotlib.pyplot as plt\n",
    "import pandas as pd\n",
    "\n",
    "from scipy.stats import truncnorm\n",
    "import scipy\n"
   ]
  },
  {
   "cell_type": "markdown",
   "metadata": {},
   "source": [
    "### Задача 1\n",
    "\n",
    "Даны значения величины заработной платы заемщиков банка (salary) и значения их поведенческого кредитного скоринга (scoring):\n",
    "\n",
    "salary = [35, 45, 190, 200, 40, 70, 54, 150, 120, 110]\n",
    "scoring = [401, 574, 874, 919, 459, 739, 653, 902, 746, 832]\n",
    "\n",
    "Возьмём в качестве признака значение salary, а в качестве целевой переменной - scoring.\n",
    "\n",
    "Найдите коэффициенты линейной регрессии с помощью формул для парной регрессии, а затем с помощью метода наименьших квадратов.\n",
    "Постройте scatter plot по данным и отметьте на нём прямую линейной регрессии, полученную в п. 1.\n",
    "Посчитайте коэффициент детерминации, среднюю ошибку аппроксимации.\n",
    "Оцените построенное уравнение регрессии с помощью F-критерия Фишера.\n",
    "Постройте для коэффициентов регрессии доверительные интервалы с помощью t-статистики Стьюдента."
   ]
  },
  {
   "cell_type": "code",
   "execution_count": 2,
   "metadata": {},
   "outputs": [
    {
     "data": {
      "text/plain": [
       "(array([ 35,  45, 190, 200,  40,  70,  54, 150, 120, 110]),\n",
       " array([401, 574, 874, 919, 459, 739, 653, 902, 746, 832]))"
      ]
     },
     "execution_count": 2,
     "metadata": {},
     "output_type": "execute_result"
    }
   ],
   "source": [
    "X = zp = np.array([35, 45, 190, 200, 40, 70, 54, 150, 120, 110])\n",
    "Y = ks = np.array([401, 574, 874, 919, 459, 739, 653, 902, 746, 832])\n",
    "X, Y"
   ]
  },
  {
   "cell_type": "code",
   "execution_count": 3,
   "metadata": {},
   "outputs": [
    {
     "data": {
      "text/plain": [
       "10"
      ]
     },
     "execution_count": 3,
     "metadata": {},
     "output_type": "execute_result"
    }
   ],
   "source": [
    "n = len(X)\n",
    "n"
   ]
  },
  {
   "cell_type": "code",
   "execution_count": 4,
   "metadata": {},
   "outputs": [
    {
     "data": {
      "text/plain": [
       "62.31318747531162"
      ]
     },
     "execution_count": 4,
     "metadata": {},
     "output_type": "execute_result"
    }
   ],
   "source": [
    "stdX = X.std(ddof=1) # Несмещенная дисперсия\n",
    "stdX"
   ]
  },
  {
   "cell_type": "code",
   "execution_count": 5,
   "metadata": {},
   "outputs": [
    {
     "data": {
      "text/plain": [
       "3882.9333333333334"
      ]
     },
     "execution_count": 5,
     "metadata": {},
     "output_type": "execute_result"
    }
   ],
   "source": [
    "varX = X.var(ddof=1)\n",
    "varX"
   ]
  },
  {
   "cell_type": "code",
   "execution_count": 6,
   "metadata": {},
   "outputs": [
    {
     "data": {
      "text/plain": [
       "183.99544076477068"
      ]
     },
     "execution_count": 6,
     "metadata": {},
     "output_type": "execute_result"
    }
   ],
   "source": [
    "stdY = Y.std(ddof=1)\n",
    "stdY"
   ]
  },
  {
   "cell_type": "code",
   "execution_count": 7,
   "metadata": {},
   "outputs": [
    {
     "data": {
      "text/plain": [
       "33854.32222222223"
      ]
     },
     "execution_count": 7,
     "metadata": {},
     "output_type": "execute_result"
    }
   ],
   "source": [
    "varY = Y.var(ddof=1)\n",
    "varY"
   ]
  },
  {
   "cell_type": "code",
   "execution_count": 8,
   "metadata": {},
   "outputs": [
    {
     "data": {
      "text/plain": [
       "array([[ 3882.93333333, 10175.37777778],\n",
       "       [10175.37777778, 33854.32222222]])"
      ]
     },
     "execution_count": 8,
     "metadata": {},
     "output_type": "execute_result"
    }
   ],
   "source": [
    "XY_cov_m = np.cov(X, Y, ddof=1)\n",
    "XY_cov_m"
   ]
  },
  {
   "cell_type": "code",
   "execution_count": 9,
   "metadata": {},
   "outputs": [
    {
     "name": "stdout",
     "output_type": "stream",
     "text": [
      "R-n  корреляции 0.8874900920739162 Ковариация смещенная 9156.84\n"
     ]
    }
   ],
   "source": [
    "t1 = 0  ## К-т корреляции\n",
    "t2 = 0\n",
    "t3 = 0\n",
    "c = 0 \n",
    "k = 0\n",
    "for i in range(0,len(X)):\n",
    "    t1 = t1 + (X[i]-X.mean())*(Y[i]-Y.mean())\n",
    "    t2 = t2 +  (X[i]-X.mean())**2\n",
    "    t3 = t3 +  (Y[i]-Y.mean())**2\n",
    "k = t1/np.sqrt(t2*t3)\n",
    "c = t1 / len(X) -1\n",
    "print('R-n  корреляции',k, 'Ковариация смещенная', c)   # с - на смещенной "
   ]
  },
  {
   "cell_type": "code",
   "execution_count": 10,
   "metadata": {},
   "outputs": [
    {
     "data": {
      "text/plain": [
       "array([[1.        , 0.88749009],\n",
       "       [0.88749009, 1.        ]])"
      ]
     },
     "execution_count": 10,
     "metadata": {},
     "output_type": "execute_result"
    }
   ],
   "source": [
    "VAL = np.vstack((X, Y))\n",
    "R_xy_m = np.corrcoef(VAL)\n",
    "R_xy_m"
   ]
  },
  {
   "cell_type": "code",
   "execution_count": 11,
   "metadata": {},
   "outputs": [
    {
     "data": {
      "text/plain": [
       "0.7986538634913372"
      ]
     },
     "execution_count": 11,
     "metadata": {},
     "output_type": "execute_result"
    }
   ],
   "source": [
    "R_xy = c/(stdX*stdY)\n",
    "R_xy"
   ]
  },
  {
   "cell_type": "code",
   "execution_count": 12,
   "metadata": {},
   "outputs": [
    {
     "data": {
      "text/plain": [
       "2.3582274569054325"
      ]
     },
     "execution_count": 12,
     "metadata": {},
     "output_type": "execute_result"
    }
   ],
   "source": [
    "a = R_xy/stdX*stdY\n",
    "a"
   ]
  },
  {
   "cell_type": "code",
   "execution_count": 13,
   "metadata": {},
   "outputs": [
    {
     "data": {
      "text/plain": [
       "2.6205388824027653"
      ]
     },
     "execution_count": 13,
     "metadata": {},
     "output_type": "execute_result"
    }
   ],
   "source": [
    "a = np.cov(X, Y, ddof=0)[0, 1] / np.var(X, ddof=0)\n",
    "a"
   ]
  },
  {
   "cell_type": "code",
   "execution_count": 14,
   "metadata": {},
   "outputs": [
    {
     "data": {
      "text/plain": [
       "444.17735732435955"
      ]
     },
     "execution_count": 14,
     "metadata": {},
     "output_type": "execute_result"
    }
   ],
   "source": [
    "b = Y.mean()-a*X.mean()\n",
    "b"
   ]
  },
  {
   "cell_type": "code",
   "execution_count": 15,
   "metadata": {},
   "outputs": [
    {
     "data": {
      "text/plain": [
       "(2.620538882402765, 444.1773573243596)"
      ]
     },
     "execution_count": 15,
     "metadata": {},
     "output_type": "execute_result"
    }
   ],
   "source": [
    "a = (np.mean(X*Y)-np.mean(X)*np.mean(Y))/(np.mean(X**2)-np.mean(X)**2)\n",
    "b = np.mean(Y)-a*np.mean(X)\n",
    "a,b"
   ]
  },
  {
   "cell_type": "code",
   "execution_count": 16,
   "metadata": {},
   "outputs": [
    {
     "data": {
      "image/png": "[encoded data removed]",
      "text/plain": [
       "<Figure size 432x288 with 1 Axes>"
      ]
     },
     "metadata": {
      "needs_background": "light"
     },
     "output_type": "display_data"
    }
   ],
   "source": [
    "ox = X\n",
    "oy =  a * X +b\n",
    "\n",
    "plt.scatter(X, Y)\n",
    "plt.plot(ox, oy, color='red', alpha=0.5)\n",
    "\n",
    "plt.xlabel('salary')\n",
    "plt.ylabel('scoring');"
   ]
  },
  {
   "cell_type": "code",
   "execution_count": 17,
   "metadata": {},
   "outputs": [
    {
     "name": "stdout",
     "output_type": "stream",
     "text": [
      "2.6205388824027653 444.1773573243596\n",
      "2.6205388824027653 444.17735732435966\n"
     ]
    }
   ],
   "source": [
    "n=len(Y)\n",
    "a = (np.sum(X)*np.sum(Y) - n*np.sum(X*Y))/(np.sum(X)*np.sum(X) - n*np.sum(X*X))\n",
    "b = (np.sum(Y) - a*np.sum(X))/n\n",
    "A = np.vstack((X, np.ones(len(X)))).T\n",
    "a1, b1 = np.linalg.lstsq(A, Y, rcond=None)[0]  # метод наименьших квадратов \n",
    "print(a, b)\n",
    "print(a1, b1)"
   ]
  },
  {
   "cell_type": "markdown",
   "metadata": {},
   "source": [
    "__Средняя ошибка апроксимации__:\n",
    "$$\\overline{A} = \\frac{1}{n} \\sum\\limits_{i=1}^{n} \\Bigl |{{\\frac{y_i - \\hat{y}_i}{y_i}} \\Bigr |} \\cdot{100\\%}$$\n"
   ]
  },
  {
   "cell_type": "code",
   "execution_count": 18,
   "metadata": {},
   "outputs": [
    {
     "data": {
      "text/plain": [
       "11.46925184356171"
      ]
     },
     "execution_count": 18,
     "metadata": {},
     "output_type": "execute_result"
    }
   ],
   "source": [
    "A = 100/len(Y)*np.sum(np.abs((Y-oy)/Y))  # средняя ошибка апроксимации\n",
    "A"
   ]
  },
  {
   "cell_type": "code",
   "execution_count": 19,
   "metadata": {},
   "outputs": [],
   "source": [
    "def mean_approximation_error(y_real: np.ndarray, y_pred: np.ndarray) -> float:\n",
    "    \"\"\"Средняя ошибка аппроксимации.\n",
    "    \"\"\"\n",
    "    \n",
    "    return np.abs((y_real - y_pred) / y_real).mean()"
   ]
  },
  {
   "cell_type": "code",
   "execution_count": 20,
   "metadata": {},
   "outputs": [
    {
     "data": {
      "text/plain": [
       "0.11469251843561709"
      ]
     },
     "execution_count": 20,
     "metadata": {},
     "output_type": "execute_result"
    }
   ],
   "source": [
    "mean_approximation_error(Y, oy)"
   ]
  },
  {
   "cell_type": "markdown",
   "metadata": {},
   "source": [
    "__Коэффициент детерминации__:\n",
    "$$R^2 = 1 - \\dfrac{\\sigma^2_{res}}{\\sigma^2_{y}}$$\n"
   ]
  },
  {
   "cell_type": "code",
   "execution_count": 21,
   "metadata": {},
   "outputs": [
    {
     "data": {
      "text/plain": [
       "0.7876386635293686"
      ]
     },
     "execution_count": 21,
     "metadata": {},
     "output_type": "execute_result"
    }
   ],
   "source": [
    "R1 = 1 - (oy - Y).var() / Y.var()\n",
    "R1"
   ]
  },
  {
   "cell_type": "code",
   "execution_count": 22,
   "metadata": {},
   "outputs": [
    {
     "data": {
      "text/plain": [
       "array([[1.        , 0.78763866],\n",
       "       [0.78763866, 1.        ]])"
      ]
     },
     "execution_count": 22,
     "metadata": {},
     "output_type": "execute_result"
    }
   ],
   "source": [
    "np.corrcoef(Y, oy) ** 2"
   ]
  },
  {
   "cell_type": "markdown",
   "metadata": {},
   "source": [
    "**Стандартная ошибка** $s_{ост}$ рассчитывается по формуле:\n",
    "$$S_{ост} = \\sqrt{\\frac{\\sum\\limits_{i=1}^{n}(y_i - \\hat{y}_i)^2}{n - 2}}$$"
   ]
  },
  {
   "cell_type": "code",
   "execution_count": 23,
   "metadata": {},
   "outputs": [
    {
     "data": {
      "text/plain": [
       "89.93340731602925"
      ]
     },
     "execution_count": 23,
     "metadata": {},
     "output_type": "execute_result"
    }
   ],
   "source": [
    "# Стандартная ошибка   апроксимации\n",
    "Est = np.sqrt(np.sum((Y-oy)**2)/(n-2))\n",
    "Est"
   ]
  },
  {
   "cell_type": "markdown",
   "metadata": {},
   "source": [
    "### Оценка значимости уравнения линейной регрессии\n",
    "\n",
    "Оценить статистическую значимость уравнения линейной регрессии в целом можно с помощью __F-критерия Фишера__. Проверяется нулевая гипотеза о том, что все коэффициенты при факторах у регрессионной модели равны нулю (т.е. модель представляет из себя горизонтальную плоскость.)"
   ]
  },
  {
   "cell_type": "code",
   "execution_count": 24,
   "metadata": {},
   "outputs": [],
   "source": [
    "f1 = 1\n",
    "f2 = n-f1-1"
   ]
  },
  {
   "cell_type": "code",
   "execution_count": 25,
   "metadata": {},
   "outputs": [],
   "source": [
    "# F-критерий Фишера позволяет оценить значимость уравнения линейной регрессии в целом. Определим по таблице f1=2 f2 =7"
   ]
  },
  {
   "cell_type": "markdown",
   "metadata": {},
   "source": [
    "Fcr = 5.31\n"
   ]
  },
  {
   "cell_type": "code",
   "execution_count": 26,
   "metadata": {},
   "outputs": [
    {
     "data": {
      "text/plain": [
       "5.317655071578714"
      ]
     },
     "execution_count": 26,
     "metadata": {},
     "output_type": "execute_result"
    }
   ],
   "source": [
    "from scipy import stats\n",
    "F_crit = stats.f.ppf(1 - 0.05, f1, f2)\n",
    "F_crit"
   ]
  },
  {
   "cell_type": "code",
   "execution_count": 27,
   "metadata": {},
   "outputs": [
    {
     "data": {
      "text/plain": [
       "29.67164085966451"
      ]
     },
     "execution_count": 27,
     "metadata": {},
     "output_type": "execute_result"
    }
   ],
   "source": [
    "Ffact = R1/f1/((1-R1)/f2)\n",
    "Ffact"
   ]
  },
  {
   "cell_type": "markdown",
   "metadata": {},
   "source": [
    "При  парной регрессии с помощью t-распределения Стьюдента можно построить доверительные интервалы для коэффициентов регрессии.\n",
    "\n",
    "Построим доверительный интервал коэффициента наклона $b_1$ (из уравнения $y = b_0 + b_1 \\cdot x$). Нам понадобится значение __стандартной ошибки коэффициента наклона__. Она вычисляется по формуле:\n",
    "$$S_{slope} = \\sqrt{\\dfrac{\\frac{1}{n - 2} \\displaystyle\\sum_{i=1}^{n}(y_i - z_i)^2}{\\displaystyle\\sum_{i=1}^n (x_i - \\overline{x})^2}},$$\n",
    "где:\n",
    "* $x$, $x_i$ — соответственно, все значения и конкретное значение фактора\n",
    "* $y_i$ — конкретное значение оцениваемой (целевой) переменной\n",
    "* $z_i$ — «предсказанное» значение, полученное с помощью модели регрессии\n",
    "* $n$ — число элементов в выборке\n"
   ]
  },
  {
   "cell_type": "code",
   "execution_count": 28,
   "metadata": {},
   "outputs": [
    {
     "data": {
      "text/plain": [
       "0.31622776601683794"
      ]
     },
     "execution_count": 28,
     "metadata": {},
     "output_type": "execute_result"
    }
   ],
   "source": [
    "Ssl = np.sqrt(1/n-2*(np.sum(Y-oy)**2)/np.sum((X-X.mean()**2)))\n",
    "Ssl"
   ]
  },
  {
   "cell_type": "markdown",
   "metadata": {},
   "source": [
    "Пусть $b_1$ — реальное значение этого коэффициента. Тогда статистика\n",
    "$$T = \\dfrac{\\hat{b}_1 - b_1}{S_{slope}}$$\n",
    "имеет распределение Стьюдента с $n - 2$ степенями свободы. Для выбранного нами уровня доверия $p = 1 - \\alpha$ доверительный интервал выглядит следующим образом:\n",
    "$$P \\left( \\hat{b}_1 - t_{1 - \\alpha/2, \\: n - 2} \\cdot S_{slope} \\leq b_1 \\leq \\hat{b}_1 + t_{1 - \\alpha/2, \\: n - 2} \\cdot S_{slope} \\right) = p$$\n"
   ]
  },
  {
   "cell_type": "code",
   "execution_count": 29,
   "metadata": {},
   "outputs": [
    {
     "data": {
      "text/plain": [
       "2.3060041350333704"
      ]
     },
     "execution_count": 29,
     "metadata": {},
     "output_type": "execute_result"
    }
   ],
   "source": [
    "t = scipy.stats.t.ppf(0.975, n-2) #статистика T\n",
    "t"
   ]
  },
  {
   "cell_type": "code",
   "execution_count": 30,
   "metadata": {},
   "outputs": [
    {
     "data": {
      "text/plain": [
       "(1.891316346355572, 3.3497614184499587)"
      ]
     },
     "execution_count": 30,
     "metadata": {},
     "output_type": "execute_result"
    }
   ],
   "source": [
    "#Тогда интервал:\n",
    "da = (a-t*Ssl, a+t*Ssl)\n",
    "da"
   ]
  },
  {
   "cell_type": "markdown",
   "metadata": {},
   "source": [
    "Аналогично можно построить доверительный интервал для коэффициента сдвига $b_0$. __Стандартная ошибка коэффициента сдвига__ вычисляется по формуле:\n",
    "$$S_{intercept} = S_{slope} \\cdot \\sqrt{\\dfrac{1}{n} \\displaystyle\\sum_{i=1}^n x_i^2}.$$"
   ]
  },
  {
   "cell_type": "code",
   "execution_count": 31,
   "metadata": {},
   "outputs": [
    {
     "data": {
      "text/plain": [
       "117.37376197430157"
      ]
     },
     "execution_count": 31,
     "metadata": {},
     "output_type": "execute_result"
    }
   ],
   "source": [
    "Sin = np.sqrt(1/n*np.sum(X**2))\n",
    "Sin"
   ]
  },
  {
   "cell_type": "code",
   "execution_count": 32,
   "metadata": {},
   "outputs": [
    {
     "data": {
      "text/plain": [
       "(443.4481347883124, 444.9065798604068)"
      ]
     },
     "execution_count": 32,
     "metadata": {},
     "output_type": "execute_result"
    }
   ],
   "source": [
    "db = (b-t*Ssl, b+t*Ssl)\n",
    "db"
   ]
  },
  {
   "cell_type": "markdown",
   "metadata": {},
   "source": [
    "#### Задача 2\n",
    "\n",
    "Квартет Энскомба — популярный в области анализа данных пример наборов данных, у которых практически совпадают все статистические свойства (средние, дисперсии, коэффициенты корреляции, регрессионные линии), однако, существенно отличаются графики. Данный пример призван показать, насколько важна визуализация данных. Датасет представляет собой 4 пары выборок:"
   ]
  },
  {
   "cell_type": "code",
   "execution_count": 33,
   "metadata": {},
   "outputs": [],
   "source": [
    "X = {\"1\": [10.0, 8.0, 13.0, 9.0, 11.0, 14.0, 6.0, 4.0, 12.0, 7.0, 5.0],\n",
    "    \"2\": [10.0, 8.0, 13.0, 9.0, 11.0, 14.0, 6.0, 4.0, 12.0, 7.0, 5.0],\n",
    "    \"3\": [10.0, 8.0, 13.0, 9.0, 11.0, 14.0, 6.0, 4.0, 12.0, 7.0, 5.0],\n",
    "    \"4\": [8.0, 8.0, 8.0, 8.0, 8.0, 8.0, 8.0, 19.0, 8.0, 8.0, 8.0]}\n",
    "Y = {\"1\": [8.04, 6.95, 7.58, 8.81, 8.33, 9.96, 7.24, 4.26, 10.84, 4.82, 5.68],\n",
    "    \"2\": [9.14, 8.14, 8.74, 8.77, 9.26, 8.1, 6.13, 3.1, 9.13, 7.26, 4.74],\n",
    "    \"3\": [7.46, 6.77, 12.74, 7.11, 7.81, 8.84, 6.08, 5.39, 8.15, 6.42, 5.73],\n",
    "    \"4\": [6.58, 5.76, 7.71, 8.84, 8.47, 7.04, 5.25, 12.5, 5.56, 7.91, 6.89]}"
   ]
  },
  {
   "cell_type": "markdown",
   "metadata": {},
   "source": [
    "По каждой паре выборок посчитайте:\n",
    "\n",
    "выборочное среднее и дисперсию каждой выборки,\n",
    "коэффициент корреляции Пирсона и прямую линейной регрессии.\n",
    "Убедившись в том, что они практически не отличаются, постройте scatter plot по каждой паре выборок"
   ]
  },
  {
   "cell_type": "code",
   "execution_count": 34,
   "metadata": {},
   "outputs": [
    {
     "name": "stdout",
     "output_type": "stream",
     "text": [
      "1 : 9.0 7.5 10.0 3.752 0.5000909090909091 3.000090909090908 (0.8164205163448399, 0.0021696288730787927)\n",
      "2 : 9.0 7.5 10.0 3.752 0.49999999999999994 3.000909090909089 (0.8162365060002427, 0.0021788162369108027)\n",
      "3 : 9.0 7.5 10.0 3.748 0.4997272727272728 3.002454545454544 (0.8162867394895982, 0.002176305279228025)\n",
      "4 : 9.0 7.5 10.0 3.748 0.4999090909090907 3.001727272727273 (0.8165214368885029, 0.002164602347197218)\n"
     ]
    },
    {
     "data": {
      "image/png": "[encoded data removed]",
      "text/plain": [
       "<Figure size 1224x1224 with 4 Axes>"
      ]
     },
     "metadata": {
      "needs_background": "light"
     },
     "output_type": "display_data"
    }
   ],
   "source": [
    "keys = X.keys()\n",
    "fig, axes = plt.subplots(ncols=2, nrows=2)\n",
    "fig.set_size_inches(17, 17)\n",
    "plt.subplots_adjust(wspace=0.2, hspace=0.8)\n",
    "for key, ax in zip(keys, axes.flatten()):\n",
    "    xx = np.array(X[key])\n",
    "    yy = np.array(Y[key])\n",
    "    m_X = xx.mean()\n",
    "    m_Y = yy.mean()\n",
    "    var_X = xx.var()\n",
    "    var_Y = yy.var()\n",
    "    A = np.vstack((xx, np.ones(len(xx)))).T\n",
    "    a, b = np.linalg.lstsq(A, yy, rcond=None)[0]\n",
    "    pirs=stats.pearsonr(xx, yy)\n",
    "    ax.tick_params(axis = 'x',    #  Применяем параметры к обеим осям\n",
    "               labelrotation = 90)    #  Поворот подписей\n",
    "    ax.minorticks_on()\n",
    "    ax.grid(which='minor',\n",
    "        color = 'gray',\n",
    "        linestyle = ':')\n",
    "    ax.scatter(xx, yy)\n",
    "    ax.plot(xx, a *xx +b, color='red', alpha=0.5)\n",
    "    ax.set_title(key)\n",
    "    ax.set_ylabel('Y')\n",
    "    ax.set_xlabel('X')\n",
    "    print(key,':', m_X, np.round(m_Y,2),np.round( var_X,3), np.round(var_Y,3), a, b, pirs)"
   ]
  },
  {
   "cell_type": "code",
   "execution_count": null,
   "metadata": {},
   "outputs": [],
   "source": []
  }
 ],
 "metadata": {
  "kernelspec": {
   "display_name": "Python 3",
   "language": "python",
   "name": "python3"
  },
  "language_info": {
   "codemirror_mode": {
    "name": "ipython",
    "version": 3
   },
   "file_extension": ".py",
   "mimetype": "text/x-python",
   "name": "python",
   "nbconvert_exporter": "python",
   "pygments_lexer": "ipython3",
   "version": "3.7.4"
  }
 },
 "nbformat": 4,
 "nbformat_minor": 4
}
