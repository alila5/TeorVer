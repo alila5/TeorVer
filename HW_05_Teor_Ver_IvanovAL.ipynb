{
 "cells": [
  {
   "cell_type": "code",
   "execution_count": 1,
   "metadata": {},
   "outputs": [],
   "source": [
    "from math import exp, pi, sqrt\n",
    "import numpy as np\n",
    "import matplotlib.pyplot as plt\n",
    "from scipy.stats import norm\n",
    "from scipy.stats import truncnorm\n",
    "import scipy\n",
    "from numpy import trapz"
   ]
  },
  {
   "cell_type": "markdown",
   "metadata": {},
   "source": [
    "### Задача 1\n",
    "\n",
    "Утверждается, что шарики для подшипников, изготовленные автоматическим станком, имеют средний диаметр 17 мм. Используя уровень значимости 0.025 и правостороннюю критическую область, проверить данную гипотезу при условии, что в выборке из 100 шариков средний диаметр оказался равным 17.5 мм, а дисперсия известна и равна 4 мм."
   ]
  },
  {
   "cell_type": "markdown",
   "metadata": {},
   "source": [
    "Нулевая гипотеза:H0 : M0 = 17.  Альтернативная гипотеза (правосторонняя)  H1 : M0 >17"
   ]
  },
  {
   "cell_type": "code",
   "execution_count": 2,
   "metadata": {},
   "outputs": [
    {
     "name": "stdout",
     "output_type": "stream",
     "text": [
      "Unabl 2.5\n",
      "Uk 1.959963984540054\n"
     ]
    },
    {
     "data": {
      "text/plain": [
       "False"
      ]
     },
     "execution_count": 2,
     "metadata": {},
     "output_type": "execute_result"
    }
   ],
   "source": [
    "M0 = 17\n",
    "M1 = 17.5\n",
    "var = 4\n",
    "n = 100\n",
    "alpha = 0.025\n",
    "Unabl = (M1-M0)/((var**1/2)/n**(1/2))\n",
    "print('Unabl', Unabl)\n",
    "t = (1-alpha)   # т.к. правосторонняя критическая область alpha НЕ ДЕЛИМ на 2\n",
    "Uk = norm.ppf(t)\n",
    "print('Uk', Uk)\n",
    "\n",
    "Unabl < Uk #Отвергаем H0, принмаем H1 при уровне значимости 0.025"
   ]
  },
  {
   "cell_type": "markdown",
   "metadata": {},
   "source": [
    "### Задача 2\n",
    "\n",
    "Известно, что генеральная совокупность распределена нормально с известным средним квадратическим отклонением 16. Найти доверительный интервал для оценки математического ожидания a с надёжностью 0.95, если выборочное среднее равно 80, а объём равен 256."
   ]
  },
  {
   "cell_type": "code",
   "execution_count": 3,
   "metadata": {},
   "outputs": [
    {
     "name": "stdout",
     "output_type": "stream",
     "text": [
      "-1.959963984540054\n",
      "1.959963984540054\n"
     ]
    },
    {
     "data": {
      "text/plain": [
       "(78.04003601545995, 81.95996398454005)"
      ]
     },
     "execution_count": 3,
     "metadata": {},
     "output_type": "execute_result"
    }
   ],
   "source": [
    "n = 256\n",
    "M = 80\n",
    "alpha = 1-0.95\n",
    "std = 16\n",
    "z1 = norm.ppf(alpha/2)\n",
    "print(z1)\n",
    "z2 = norm.ppf(1-alpha/2)\n",
    "print(z2)\n",
    "z = 1.96\n",
    "M+(z1*std/(n**(1/2))), M+(z2*std/(n**(1/2)))"
   ]
  },
  {
   "cell_type": "markdown",
   "metadata": {},
   "source": [
    "### Задача 3\n",
    "\n",
    "Продавец утверждает, что средний вес пачки печенья составляет 200 г. Из партии извлечена выборка из 10 пачек. Вес каждой пачки составляет:\n",
    "\n",
    "202, 203, 199, 197, 195, 201, 200, 204, 194, 190\n",
    "\n",
    "Известно, что их веса распределены нормально. Верно ли утверждение продавца, если учитывать, что уровень значимости равен 1%?"
   ]
  },
  {
   "cell_type": "code",
   "execution_count": 4,
   "metadata": {},
   "outputs": [
    {
     "name": "stdout",
     "output_type": "stream",
     "text": [
      "M 198.5\n",
      "Т - распределение -1.0651074037450896\n",
      "z1 -3.24983554401537 z2 3.2498355440153697\n"
     ]
    }
   ],
   "source": [
    "x = np.array([202, 203, 199, 197, 195, 201, 200, 204, 194, 190])\n",
    "n = len(x)\n",
    "M = x.mean()\n",
    "print('M', M)\n",
    "M0 = 200\n",
    "std = x.var(ddof=1)**(1/2)\n",
    "T = ((M-M0)*n**0.5)/std\n",
    "print('Т - распределение', T)\n",
    "z1 = scipy.stats.t.ppf(0.005, n-1)  # т.к. двухстороний интервал  делим на 1% /2\n",
    "z2 = scipy.stats.t.ppf(0.995, n-1)\n",
    "print('z1', z1, 'z2', z2)"
   ]
  },
  {
   "cell_type": "markdown",
   "metadata": {},
   "source": [
    "H0 верна на уровне значимости 1%"
   ]
  },
  {
   "cell_type": "code",
   "execution_count": null,
   "metadata": {},
   "outputs": [],
   "source": []
  }
 ],
 "metadata": {
  "kernelspec": {
   "display_name": "Python 3",
   "language": "python",
   "name": "python3"
  },
  "language_info": {
   "codemirror_mode": {
    "name": "ipython",
    "version": 3
   },
   "file_extension": ".py",
   "mimetype": "text/x-python",
   "name": "python",
   "nbconvert_exporter": "python",
   "pygments_lexer": "ipython3",
   "version": "3.7.4"
  }
 },
 "nbformat": 4,
 "nbformat_minor": 4
}
